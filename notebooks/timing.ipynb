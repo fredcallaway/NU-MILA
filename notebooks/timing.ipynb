{
 "cells": [
  {
   "cell_type": "code",
   "execution_count": 5,
   "metadata": {
    "collapsed": true
   },
   "outputs": [],
   "source": [
    "import utils"
   ]
  },
  {
   "cell_type": "code",
   "execution_count": 6,
   "metadata": {
    "collapsed": true
   },
   "outputs": [],
   "source": [
    "def common_neighbors(lst1, lst2):\n",
    "    return sum(pair1 == pair2 \n",
    "        for pair1 in utils.neighbors(lst1)\n",
    "        for pair2 in utils.neighbors(lst2))"
   ]
  },
  {
   "cell_type": "code",
   "execution_count": 7,
   "metadata": {
    "collapsed": false
   },
   "outputs": [
    {
     "data": {
      "text/plain": [
       "1"
      ]
     },
     "execution_count": 7,
     "metadata": {},
     "output_type": "execute_result"
    }
   ],
   "source": [
    "common_neighbors([1,2,3], [3,1,2])"
   ]
  },
  {
   "cell_type": "code",
   "execution_count": 8,
   "metadata": {
    "collapsed": true
   },
   "outputs": [],
   "source": [
    "%load_ext autoreload\n",
    "%autoreload 2"
   ]
  },
  {
   "cell_type": "code",
   "execution_count": 9,
   "metadata": {
    "collapsed": false
   },
   "outputs": [
    {
     "name": "stderr",
     "output_type": "stream",
     "text": [
      "/Users/fred/anaconda/lib/python3.5/site-packages/sklearn/utils/fixes.py:64: DeprecationWarning: inspect.getargspec() is deprecated, use inspect.signature() instead\n",
      "  if 'order' in inspect.getargspec(np.copy)[0]:\n"
     ]
    }
   ],
   "source": [
    "import pandas as pd\n",
    "import numpy as np\n",
    "import seaborn as sns\n",
    "import plotting\n",
    "\n",
    "import vectors\n",
    "vm = vectors.VectorModel(1000, 0.005, 'addition')"
   ]
  },
  {
   "cell_type": "code",
   "execution_count": 10,
   "metadata": {
    "collapsed": false
   },
   "outputs": [],
   "source": [
    "n = 1000\n",
    "v1 = sum(vm.sparse() for _ in range(n))\n",
    "v2 = sum(vm.sparse() for _ in range(n))\n"
   ]
  },
  {
   "cell_type": "code",
   "execution_count": 11,
   "metadata": {
    "collapsed": true
   },
   "outputs": [],
   "source": [
    "def cosine(a,b):\n",
    "    '''\n",
    "    Computes the cosine of the angle between the vectors a and b.\n",
    "    '''\n",
    "    sumSqA = np.sum(a**2.0)\n",
    "    sumSqB = np.sum(b**2.0)\n",
    "    if sumSqA == 0.0 or sumSqB == 0.0: return 0.0\n",
    "    return np.dot(a,b) * (sumSqA * sumSqB)**-0.5\n",
    "\n",
    "cosine2 = vectors.cosine"
   ]
  },
  {
   "cell_type": "code",
   "execution_count": 5,
   "metadata": {
    "collapsed": false
   },
   "outputs": [
    {
     "name": "stdout",
     "output_type": "stream",
     "text": [
      "The slowest run took 6.29 times longer than the fastest. This could mean that an intermediate result is being cached \n",
      "10000 loops, best of 3: 22.7 µs per loop\n"
     ]
    }
   ],
   "source": [
    "%%timeit\n",
    "cosine(v1, v2)"
   ]
  },
  {
   "cell_type": "code",
   "execution_count": 8,
   "metadata": {
    "collapsed": false
   },
   "outputs": [
    {
     "name": "stdout",
     "output_type": "stream",
     "text": [
      "The slowest run took 9.70 times longer than the fastest. This could mean that an intermediate result is being cached \n",
      "100000 loops, best of 3: 15.7 µs per loop\n"
     ]
    }
   ],
   "source": [
    "%%timeit\n",
    "vectors.normalize(v1)"
   ]
  },
  {
   "cell_type": "code",
   "execution_count": 9,
   "metadata": {
    "collapsed": false
   },
   "outputs": [
    {
     "name": "stdout",
     "output_type": "stream",
     "text": [
      "The slowest run took 17.90 times longer than the fastest. This could mean that an intermediate result is being cached \n",
      "1000000 loops, best of 3: 1.55 µs per loop\n"
     ]
    }
   ],
   "source": [
    "%timeit np.dot(v1, v2)"
   ]
  },
  {
   "cell_type": "code",
   "execution_count": 71,
   "metadata": {
    "collapsed": false
   },
   "outputs": [
    {
     "name": "stdout",
     "output_type": "stream",
     "text": [
      "The slowest run took 5.37 times longer than the fastest. This could mean that an intermediate result is being cached \n",
      "10000 loops, best of 3: 22.3 µs per loop\n"
     ]
    }
   ],
   "source": [
    "import scipy.sparse\n",
    "n = 1000\n",
    "x1 = (np.random.rand(n) * 1.9).astype(int).astype(float)\n",
    "x2 = (np.random.rand(n) * 1.9).astype(int).astype(float)\n",
    "%timeit cosine(x1, x2) ** 2.0"
   ]
  },
  {
   "cell_type": "code",
   "execution_count": 17,
   "metadata": {
    "collapsed": false
   },
   "outputs": [],
   "source": [
    "class Wrap:\n",
    "    def __init__(self, a):\n",
    "        self.a = a"
   ]
  },
  {
   "cell_type": "code",
   "execution_count": 38,
   "metadata": {
    "collapsed": false
   },
   "outputs": [],
   "source": [
    "from numba import jit\n",
    "\n",
    "def gen_sum_wrap(lst): return sum(w.a for w in lst)\n",
    "\n",
    "\n",
    "def loop_sum_wrap(lst):\n",
    "    sum_ = 0\n",
    "    for w in lst:\n",
    "        sum_ += w.a\n",
    "    return sum_\n",
    " \n",
    "\n",
    "def loop_sum(lst):\n",
    "    sum_ = 0\n",
    "    for w in lst:\n",
    "        sum_ += w\n",
    "    return sum_"
   ]
  },
  {
   "cell_type": "code",
   "execution_count": 39,
   "metadata": {
    "collapsed": false
   },
   "outputs": [],
   "source": [
    "lst = [v1, v2]*50\n",
    "w_lst = [Wrap(v) for v in lst]"
   ]
  },
  {
   "cell_type": "code",
   "execution_count": 40,
   "metadata": {
    "collapsed": false
   },
   "outputs": [
    {
     "name": "stdout",
     "output_type": "stream",
     "text": [
      "The slowest run took 5.24 times longer than the fastest. This could mean that an intermediate result is being cached \n",
      "10000 loops, best of 3: 100 µs per loop\n",
      "10000 loops, best of 3: 94.6 µs per loop\n"
     ]
    }
   ],
   "source": [
    "# %timeit gen_sum_wrap(w_lst)\n",
    "%timeit loop_sum_wrap(w_lst)\n",
    "%timeit loop_sum(lst)"
   ]
  },
  {
   "cell_type": "code",
   "execution_count": null,
   "metadata": {
    "collapsed": true
   },
   "outputs": [],
   "source": []
  }
 ],
 "metadata": {
  "kernelspec": {
   "display_name": "Python 3",
   "language": "python",
   "name": "python3"
  },
  "language_info": {
   "codemirror_mode": {
    "name": "ipython",
    "version": 3
   },
   "file_extension": ".py",
   "mimetype": "text/x-python",
   "name": "python",
   "nbconvert_exporter": "python",
   "pygments_lexer": "ipython3",
   "version": "3.5.0"
  }
 },
 "nbformat": 4,
 "nbformat_minor": 0
}
